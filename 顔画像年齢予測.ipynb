{
  "nbformat": 4,
  "nbformat_minor": 0,
  "metadata": {
    "colab": {
      "name": "顔画像年齢予測",
      "version": "0.3.2",
      "provenance": [],
      "collapsed_sections": [],
      "include_colab_link": true
    },
    "kernelspec": {
      "name": "python3",
      "display_name": "Python 3"
    },
    "accelerator": "GPU"
  },
  "cells": [
    {
      "cell_type": "markdown",
      "metadata": {
        "id": "view-in-github",
        "colab_type": "text"
      },
      "source": [
        "<a href=\"https://colab.research.google.com/github/teppe1/age_detection/blob/master/%E9%A1%94%E7%94%BB%E5%83%8F%E5%B9%B4%E9%BD%A2%E4%BA%88%E6%B8%AC.ipynb\" target=\"_parent\"><img src=\"https://colab.research.google.com/assets/colab-badge.svg\" alt=\"Open In Colab\"/></a>"
      ]
    },
    {
      "metadata": {
        "id": "ccyk-fuOOjsI",
        "colab_type": "code",
        "colab": {}
      },
      "cell_type": "code",
      "source": [
        "import sys\n",
        "import numpy as np\n",
        "import matplotlib.pyplot as plt\n",
        "\n",
        "# chainer\n",
        "import numpy as np\n",
        "import chainer\n",
        "from chainer import training\n",
        "from chainer import iterators, optimizers, serializers\n",
        "import chainer.functions as F\n",
        "import chainer.links as L\n",
        "from chainer.training import extensions\n",
        "from chainer.datasets import split_dataset\n",
        "import pandas as pd\n",
        "pd.options.display.precision = 3      # pandasの有効桁数を指定"
      ],
      "execution_count": 0,
      "outputs": []
    },
    {
      "metadata": {
        "id": "8Tg9mmJ0sWgC",
        "colab_type": "code",
        "colab": {}
      },
      "cell_type": "code",
      "source": [
        "import scipy"
      ],
      "execution_count": 0,
      "outputs": []
    },
    {
      "metadata": {
        "id": "qb9FccvArTEG",
        "colab_type": "code",
        "colab": {}
      },
      "cell_type": "code",
      "source": [
        "meta = scipy.io.loadmat(\"/wiki.mat\")"
      ],
      "execution_count": 0,
      "outputs": []
    },
    {
      "metadata": {
        "id": "GjYedYJzyfgy",
        "colab_type": "code",
        "colab": {
          "base_uri": "https://localhost:8080/",
          "height": 34
        },
        "outputId": "3d9f1900-37b7-4ceb-8ab0-7b7e9facb4b4"
      },
      "cell_type": "code",
      "source": [
        "print(meta[\"wiki\"][0, 0][2][0].shape)"
      ],
      "execution_count": 58,
      "outputs": [
        {
          "output_type": "stream",
          "text": [
            "(62328,)\n"
          ],
          "name": "stdout"
        }
      ]
    },
    {
      "metadata": {
        "id": "Zl9MpDW30Iqa",
        "colab_type": "text"
      },
      "cell_type": "markdown",
      "source": [
        "- dob：生年月日\n",
        "- photo_taken：写真が撮影された「年」\n",
        "- full_path：画像のパス\n",
        "- gender：性別\n",
        "- name：名前\n",
        "- face_location：顔領域の矩形情報\n",
        "- face_score：顔検出スコア\n",
        "- second_face_score：2つ目に大きい顔検出スコア"
      ]
    },
    {
      "metadata": {
        "id": "ZBlJXikwy6Bz",
        "colab_type": "code",
        "colab": {}
      },
      "cell_type": "code",
      "source": [
        "data = pd.DataFrame([meta[\"wiki\"][0, 0][i][0] for i in range(8)]).T\n",
        "data.columns = [\"dob\", \"photo_taken\", \"full_path\", \"gender\", \"name\", \"face_location\", \"face_score\", \"second_face_score\"]"
      ],
      "execution_count": 0,
      "outputs": []
    },
    {
      "metadata": {
        "id": "vfoXR9xFz02K",
        "colab_type": "code",
        "colab": {
          "base_uri": "https://localhost:8080/",
          "height": 377
        },
        "outputId": "5271eb3d-6f9d-4ccd-d6aa-8a70bfe38028"
      },
      "cell_type": "code",
      "source": [
        "data.head()"
      ],
      "execution_count": 28,
      "outputs": [
        {
          "output_type": "execute_result",
          "data": {
            "text/html": [
              "<div>\n",
              "<style scoped>\n",
              "    .dataframe tbody tr th:only-of-type {\n",
              "        vertical-align: middle;\n",
              "    }\n",
              "\n",
              "    .dataframe tbody tr th {\n",
              "        vertical-align: top;\n",
              "    }\n",
              "\n",
              "    .dataframe thead th {\n",
              "        text-align: right;\n",
              "    }\n",
              "</style>\n",
              "<table border=\"1\" class=\"dataframe\">\n",
              "  <thead>\n",
              "    <tr style=\"text-align: right;\">\n",
              "      <th></th>\n",
              "      <th>dob</th>\n",
              "      <th>photo_taken</th>\n",
              "      <th>full_path</th>\n",
              "      <th>gender</th>\n",
              "      <th>name</th>\n",
              "      <th>face_location</th>\n",
              "      <th>face_score</th>\n",
              "      <th>second_face_score</th>\n",
              "    </tr>\n",
              "  </thead>\n",
              "  <tbody>\n",
              "    <tr>\n",
              "      <th>0</th>\n",
              "      <td>723671</td>\n",
              "      <td>2009</td>\n",
              "      <td>17/10000217_1981-05-05_2009.jpg</td>\n",
              "      <td>1</td>\n",
              "      <td>Sami Jauhojärvi</td>\n",
              "      <td>[[111.29109473290997, 111.29109473290997, 252....</td>\n",
              "      <td>4.3</td>\n",
              "      <td>NaN</td>\n",
              "    </tr>\n",
              "    <tr>\n",
              "      <th>1</th>\n",
              "      <td>703186</td>\n",
              "      <td>1964</td>\n",
              "      <td>48/10000548_1925-04-04_1964.jpg</td>\n",
              "      <td>1</td>\n",
              "      <td>Dettmar Cramer</td>\n",
              "      <td>[[252.48330229530742, 126.68165114765371, 354....</td>\n",
              "      <td>2.65</td>\n",
              "      <td>1.95</td>\n",
              "    </tr>\n",
              "    <tr>\n",
              "      <th>2</th>\n",
              "      <td>711677</td>\n",
              "      <td>2008</td>\n",
              "      <td>12/100012_1948-07-03_2008.jpg</td>\n",
              "      <td>1</td>\n",
              "      <td>Marc Okrand</td>\n",
              "      <td>[[113.52, 169.83999999999997, 366.08, 422.4]]</td>\n",
              "      <td>4.33</td>\n",
              "      <td>NaN</td>\n",
              "    </tr>\n",
              "    <tr>\n",
              "      <th>3</th>\n",
              "      <td>705061</td>\n",
              "      <td>1961</td>\n",
              "      <td>65/10001965_1930-05-23_1961.jpg</td>\n",
              "      <td>1</td>\n",
              "      <td>Aleksandar Matanović</td>\n",
              "      <td>[[1, 1, 634, 440]]</td>\n",
              "      <td>-inf</td>\n",
              "      <td>NaN</td>\n",
              "    </tr>\n",
              "    <tr>\n",
              "      <th>4</th>\n",
              "      <td>720044</td>\n",
              "      <td>2012</td>\n",
              "      <td>16/10002116_1971-05-31_2012.jpg</td>\n",
              "      <td>0</td>\n",
              "      <td>Diana Damrau</td>\n",
              "      <td>[[171.61031405173117, 75.57451239763239, 266.7...</td>\n",
              "      <td>3.41</td>\n",
              "      <td>NaN</td>\n",
              "    </tr>\n",
              "  </tbody>\n",
              "</table>\n",
              "</div>"
            ],
            "text/plain": [
              "      dob photo_taken                        full_path gender  \\\n",
              "0  723671        2009  17/10000217_1981-05-05_2009.jpg      1   \n",
              "1  703186        1964  48/10000548_1925-04-04_1964.jpg      1   \n",
              "2  711677        2008    12/100012_1948-07-03_2008.jpg      1   \n",
              "3  705061        1961  65/10001965_1930-05-23_1961.jpg      1   \n",
              "4  720044        2012  16/10002116_1971-05-31_2012.jpg      0   \n",
              "\n",
              "                   name                                      face_location  \\\n",
              "0       Sami Jauhojärvi  [[111.29109473290997, 111.29109473290997, 252....   \n",
              "1        Dettmar Cramer  [[252.48330229530742, 126.68165114765371, 354....   \n",
              "2           Marc Okrand      [[113.52, 169.83999999999997, 366.08, 422.4]]   \n",
              "3  Aleksandar Matanović                                 [[1, 1, 634, 440]]   \n",
              "4          Diana Damrau  [[171.61031405173117, 75.57451239763239, 266.7...   \n",
              "\n",
              "  face_score second_face_score  \n",
              "0        4.3               NaN  \n",
              "1       2.65              1.95  \n",
              "2       4.33               NaN  \n",
              "3       -inf               NaN  \n",
              "4       3.41               NaN  "
            ]
          },
          "metadata": {
            "tags": []
          },
          "execution_count": 28
        }
      ]
    },
    {
      "metadata": {
        "id": "XB270Rjm8vIB",
        "colab_type": "code",
        "colab": {}
      },
      "cell_type": "code",
      "source": [
        "def name2name(x):\n",
        "  if not len(x) == 1:\n",
        "    return None\n",
        "  else:\n",
        "    return x[0]"
      ],
      "execution_count": 0,
      "outputs": []
    },
    {
      "metadata": {
        "id": "RtNsHz48z6Ek",
        "colab_type": "code",
        "colab": {}
      },
      "cell_type": "code",
      "source": [
        "data[\"full_path\"] = data[\"full_path\"].apply(lambda x:x[0])"
      ],
      "execution_count": 0,
      "outputs": []
    },
    {
      "metadata": {
        "id": "diUMtXyg0qzu",
        "colab_type": "code",
        "colab": {}
      },
      "cell_type": "code",
      "source": [
        "data[\"name\"] = data[\"name\"].apply(name2name)"
      ],
      "execution_count": 0,
      "outputs": []
    },
    {
      "metadata": {
        "id": "69O9sIgZ1DEp",
        "colab_type": "code",
        "colab": {}
      },
      "cell_type": "code",
      "source": [
        "data[\"face_location\"] = data[\"face_location\"].apply(lambda x:x[0])"
      ],
      "execution_count": 0,
      "outputs": []
    },
    {
      "metadata": {
        "id": "TuEHPFVo1fEF",
        "colab_type": "code",
        "colab": {
          "base_uri": "https://localhost:8080/",
          "height": 170
        },
        "outputId": "246b086f-1de6-4de3-e42e-c1220a550cd9"
      },
      "cell_type": "code",
      "source": [
        "data.isnull().any()"
      ],
      "execution_count": 34,
      "outputs": [
        {
          "output_type": "execute_result",
          "data": {
            "text/plain": [
              "dob                  False\n",
              "photo_taken          False\n",
              "full_path            False\n",
              "gender                True\n",
              "name                  True\n",
              "face_location        False\n",
              "face_score           False\n",
              "second_face_score     True\n",
              "dtype: bool"
            ]
          },
          "metadata": {
            "tags": []
          },
          "execution_count": 34
        }
      ]
    },
    {
      "metadata": {
        "id": "j21uB1_W1GSR",
        "colab_type": "code",
        "colab": {}
      },
      "cell_type": "code",
      "source": [
        "data.to_csv(\"./face_wiki.csv\", index=None)"
      ],
      "execution_count": 0,
      "outputs": []
    },
    {
      "metadata": {
        "id": "HtRnADV9_m7S",
        "colab_type": "code",
        "colab": {}
      },
      "cell_type": "code",
      "source": [
        "import datetime"
      ],
      "execution_count": 0,
      "outputs": []
    },
    {
      "metadata": {
        "id": "SDhuCsKiANqN",
        "colab_type": "code",
        "colab": {}
      },
      "cell_type": "code",
      "source": [
        "def calc_age(taken, dob):\n",
        "    birth = datetime.datetime.fromordinal(max(int(dob) - 366, 1))\n",
        "\n",
        "    # assume the photo was taken in the middle (Jul. 1) of the year\n",
        "    if birth.month < 7:\n",
        "        return taken - birth.year\n",
        "    else:\n",
        "        return taken - birth.year - 1"
      ],
      "execution_count": 0,
      "outputs": []
    },
    {
      "metadata": {
        "id": "Y9In9zHX-IDN",
        "colab_type": "code",
        "colab": {}
      },
      "cell_type": "code",
      "source": [
        "ages = []\n",
        "for dob, photo_taken in zip(data[\"dob\"], data[\"photo_taken\"]):\n",
        "#   print(dob, photo_taken)\n",
        "  age = calc_age(photo_taken, dob)\n",
        "#   print(age)\n",
        "  ages.append(age)"
      ],
      "execution_count": 0,
      "outputs": []
    },
    {
      "metadata": {
        "id": "VwO-Vq3XAVU8",
        "colab_type": "code",
        "colab": {}
      },
      "cell_type": "code",
      "source": [
        "data[\"age\"] = ages"
      ],
      "execution_count": 0,
      "outputs": []
    },
    {
      "metadata": {
        "id": "gcwKQ327AyXQ",
        "colab_type": "code",
        "colab": {}
      },
      "cell_type": "code",
      "source": [
        "data.to_csv(\"./face_wiki_with_age.csv\", index=None)"
      ],
      "execution_count": 0,
      "outputs": []
    },
    {
      "metadata": {
        "id": "e43Jt8LFBGoT",
        "colab_type": "text"
      },
      "cell_type": "markdown",
      "source": [
        "# ここから画像を使う"
      ]
    },
    {
      "metadata": {
        "id": "wd09z6jpJE6r",
        "colab_type": "code",
        "colab": {}
      },
      "cell_type": "code",
      "source": [
        "from PIL import Image"
      ],
      "execution_count": 0,
      "outputs": []
    },
    {
      "metadata": {
        "id": "fm1JGNzREvPZ",
        "colab_type": "code",
        "colab": {}
      },
      "cell_type": "code",
      "source": [
        "!mkdir images"
      ],
      "execution_count": 0,
      "outputs": []
    },
    {
      "metadata": {
        "id": "UO6f84EoFoUs",
        "colab_type": "code",
        "colab": {}
      },
      "cell_type": "code",
      "source": [
        "!mv *.jpg images"
      ],
      "execution_count": 0,
      "outputs": []
    },
    {
      "metadata": {
        "id": "a3dKGLRUG_gq",
        "colab_type": "code",
        "colab": {}
      },
      "cell_type": "code",
      "source": [
        "filter1 = (data[\"age\"] > 0) & (data[\"age\"] < 100)\n",
        "filter2 = data[\"face_score\"] > 3"
      ],
      "execution_count": 0,
      "outputs": []
    },
    {
      "metadata": {
        "id": "0riDTDXOHoRs",
        "colab_type": "code",
        "colab": {
          "base_uri": "https://localhost:8080/",
          "height": 170
        },
        "outputId": "f4b3422d-17d1-45b4-b2f2-4558c4d3b24d"
      },
      "cell_type": "code",
      "source": [
        "images = np.array(None)\n",
        "for path in data[filter1 & filter2][\"full_path\"][:1000]:\n",
        "  if path.split(\"/\")[0] == \"00\":\n",
        "#     im = np.array( Image.open('images/'+path.split(\"/\")[1] ) )\n",
        "    images = np.append(np.array(Image.open('images/'+path.split(\"/\")[1] )) , images)\n",
        "    print(images)"
      ],
      "execution_count": 77,
      "outputs": [
        {
          "output_type": "stream",
          "text": [
            "[218 219 214 ... 127 122 None]\n",
            "[39 39 39 ... 127 122 None]\n",
            "[5 3 4 ... 127 122 None]\n",
            "[120 88 63 ... 127 122 None]\n",
            "[25 25 25 ... 127 122 None]\n",
            "[255 254 254 ... 127 122 None]\n",
            "[94 108 49 ... 127 122 None]\n",
            "[99 67 42 ... 127 122 None]\n",
            "[1 0 8 ... 127 122 None]\n"
          ],
          "name": "stdout"
        }
      ]
    },
    {
      "metadata": {
        "id": "YKvxUYUaJ9TB",
        "colab_type": "code",
        "colab": {
          "base_uri": "https://localhost:8080/",
          "height": 34
        },
        "outputId": "2e66d608-a616-4343-d8e2-92de9260de01"
      },
      "cell_type": "code",
      "source": [
        "images"
      ],
      "execution_count": 78,
      "outputs": [
        {
          "output_type": "execute_result",
          "data": {
            "text/plain": [
              "array([1, 0, 8, ..., 127, 122, None], dtype=object)"
            ]
          },
          "metadata": {
            "tags": []
          },
          "execution_count": 78
        }
      ]
    },
    {
      "metadata": {
        "id": "myQ4DC9kKTF7",
        "colab_type": "code",
        "colab": {}
      },
      "cell_type": "code",
      "source": [
        "im = np.array(Image.open('images/10049200_1891-09-16_1958.jpg'))"
      ],
      "execution_count": 0,
      "outputs": []
    },
    {
      "metadata": {
        "id": "uXp8z4MgKxFG",
        "colab_type": "code",
        "colab": {
          "base_uri": "https://localhost:8080/",
          "height": 286
        },
        "outputId": "22e5cf88-f5e2-4609-f4c3-75ca7bfad979"
      },
      "cell_type": "code",
      "source": [
        "plt.imshow(im)"
      ],
      "execution_count": 86,
      "outputs": [
        {
          "output_type": "execute_result",
          "data": {
            "text/plain": [
              "<matplotlib.image.AxesImage at 0x7f83a344e080>"
            ]
          },
          "metadata": {
            "tags": []
          },
          "execution_count": 86
        },
        {
          "output_type": "display_data",
          "data": {
            "image/png": "[encoded data removed]",
            "text/plain": [
              "<Figure size 432x288 with 1 Axes>"
            ]
          },
          "metadata": {
            "tags": []
          }
        }
      ]
    },
    {
      "metadata": {
        "id": "QSVoW7MyK-0C",
        "colab_type": "code",
        "colab": {}
      },
      "cell_type": "code",
      "source": [
        ""
      ],
      "execution_count": 0,
      "outputs": []
    }
  ]
}